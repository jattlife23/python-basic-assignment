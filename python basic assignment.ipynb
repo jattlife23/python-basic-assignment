{
 "cells": [
  {
   "cell_type": "markdown",
   "id": "bcbb8a57-051b-4cd3-9937-01aad53f6a56",
   "metadata": {},
   "source": [
    "## 1. Explain the key features of the Python that makes it a popular choices after programming?"
   ]
  },
  {
   "cell_type": "markdown",
   "id": "23c342ce-16f7-4139-a1a4-dc647b22e2c7",
   "metadata": {},
   "source": [
    "## a. Dynamic Typing: \n",
    "~Python allows to assign different data type to vaiables at runtime, that making it more flexible compared to satistically typed languages."
   ]
  },
  {
   "cell_type": "markdown",
   "id": "60eb19f7-51c8-4138-8b14-6343aa38f26c",
   "metadata": {},
   "source": [
    "## b.Simple and easy to learn:\n",
    " ~python has a straightforward syntax that closely resemles natural language, making it easy to read and write."
   ]
  },
  {
   "cell_type": "markdown",
   "id": "cd924222-4b1b-40b8-abba-4366bcb9de21",
   "metadata": {},
   "source": [
    "## c. Versatility: \n",
    "~ Wide Range of Applications: Python is used in web development, data analysis, artificial intelligence, scientific computing, automation, and more.\n",
    "\n",
    "~ Python can easily integrate with other languages like C, C++, and Java, and it also works well with various technologies and platforms."
   ]
  },
  {
   "cell_type": "markdown",
   "id": "3f4e0ffa-f01c-4f65-83de-c0bda60bf844",
   "metadata": {},
   "source": [
    "## 2. Describe the role of predefined keywords in Python and provide examples of how they are used in a program."
   ]
  },
  {
   "cell_type": "markdown",
   "id": "a7dd8541-13b7-4a81-a6ca-c57d64b1118e",
   "metadata": {},
   "source": [
    "### .~Keywords are predefined words in python that have a specific meaning and specific purpose. Keywords cannot be used as variable/identifier/class name"
   ]
  },
  {
   "cell_type": "code",
   "execution_count": 8,
   "id": "14bf28bf-ade4-4c69-ae88-8de40fdbeb00",
   "metadata": {
    "tags": []
   },
   "outputs": [
    {
     "name": "stdout",
     "output_type": "stream",
     "text": [
      "\n",
      "Here is a list of the Python keywords.  Enter any keyword to get more help.\n",
      "\n",
      "False               class               from                or\n",
      "None                continue            global              pass\n",
      "True                def                 if                  raise\n",
      "and                 del                 import              return\n",
      "as                  elif                in                  try\n",
      "assert              else                is                  while\n",
      "async               except              lambda              with\n",
      "await               finally             nonlocal            yield\n",
      "break               for                 not                 \n",
      "\n"
     ]
    }
   ],
   "source": [
    "help (\"keywords\")"
   ]
  },
  {
   "cell_type": "raw",
   "id": "3523483f-709d-4b03-bb9c-3d4281349edf",
   "metadata": {},
   "source": [
    "Uses and role:"
   ]
  },
  {
   "cell_type": "markdown",
   "id": "fb56c905-5a32-4a8d-ba2c-869bcf1f1be8",
   "metadata": {},
   "source": [
    "### 1.Control Flow (if,elif,else):"
   ]
  },
  {
   "cell_type": "code",
   "execution_count": 5,
   "id": "441551d2-fab6-459c-8ad7-42874bc3db59",
   "metadata": {},
   "outputs": [
    {
     "name": "stdout",
     "output_type": "stream",
     "text": [
      "You are an adult\n"
     ]
    }
   ],
   "source": [
    "age = 20\n",
    "if age < 18:\n",
    "    print(\"You are a minor\")\n",
    "elif age == 18:\n",
    "    print(\"You just become an adult\")\n",
    "else:\n",
    "    print(\"You are an adult\")"
   ]
  },
  {
   "cell_type": "markdown",
   "id": "9e97dd0a-074c-41de-9802-1d22a6c9f7e3",
   "metadata": {},
   "source": [
    "### ~Here if,elif,and else are used to control the flow of the program based on the value of age."
   ]
  },
  {
   "cell_type": "markdown",
   "id": "487bbcda-ecec-45c3-aa71-5d00d6579a72",
   "metadata": {},
   "source": [
    "### 2.Looping (for,while)"
   ]
  },
  {
   "cell_type": "code",
   "execution_count": 6,
   "id": "a7b32c31-7df0-46a2-bd29-47b22323337b",
   "metadata": {},
   "outputs": [
    {
     "name": "stdout",
     "output_type": "stream",
     "text": [
      "0\n",
      "1\n",
      "2\n",
      "3\n",
      "4\n"
     ]
    }
   ],
   "source": [
    "for i in range(5):\n",
    "    print(i)"
   ]
  },
  {
   "cell_type": "markdown",
   "id": "87cc83b6-6685-4803-8fae-0dffd282549c",
   "metadata": {},
   "source": [
    "### ~\"for\": Used to iterate over a sequence (such as a list, tuple, or range). In the example, it prints numbers from 0 to 4."
   ]
  },
  {
   "cell_type": "code",
   "execution_count": 7,
   "id": "89f7f563-31ac-4b99-8d50-27dfdf600917",
   "metadata": {
    "tags": []
   },
   "outputs": [
    {
     "name": "stdout",
     "output_type": "stream",
     "text": [
      "0\n",
      "1\n",
      "2\n",
      "3\n",
      "4\n"
     ]
    }
   ],
   "source": [
    "count = 0\n",
    "while count < 5:\n",
    "    print(count)\n",
    "    count += 1"
   ]
  },
  {
   "cell_type": "markdown",
   "id": "e99f51df-4190-40b7-8d92-dc47a6a1a0d9",
   "metadata": {},
   "source": [
    "### ~\"while\": Used to create a loop that continues as long as a condition is True. Here, the loop runs until count reaches 5."
   ]
  },
  {
   "cell_type": "code",
   "execution_count": 9,
   "id": "2823cbef-2f24-462e-bdc3-6547e61ef68a",
   "metadata": {},
   "outputs": [
    {
     "name": "stdout",
     "output_type": "stream",
     "text": [
      "3\n",
      "4\n",
      "6\n",
      "7\n",
      "8\n",
      "this will be executed successfully when the while is run successfully without any break\n"
     ]
    }
   ],
   "source": [
    "n = 8\n",
    "i = 2\n",
    "while i < n:\n",
    "    i= i+1\n",
    "    if i==5:\n",
    "        continue\n",
    "    print(i)\n",
    "else:\n",
    "    print( \"this will be executed successfully when the while is run successfully without any break\" )"
   ]
  },
  {
   "cell_type": "markdown",
   "id": "596269ee-9139-4219-bf36-c5b40edc167c",
   "metadata": {},
   "source": [
    "### ~\"continue\": Used to skip the iteration."
   ]
  },
  {
   "cell_type": "markdown",
   "id": "6313b942-6ef0-499f-9435-de51a6ddd986",
   "metadata": {},
   "source": [
    "## 3. Compare and contrast mutable and immutable objects in Python with examples."
   ]
  },
  {
   "cell_type": "markdown",
   "id": "018eadfb-4fbe-4cfb-92fd-fa8794bb9642",
   "metadata": {},
   "source": [
    "#### Mutable object:\n",
    "Mutable objects can be modified after creation. Example include list, dictionary and set."
   ]
  },
  {
   "cell_type": "markdown",
   "id": "cbdd7434-a8c2-4e1a-a17c-d65d67bd3411",
   "metadata": {},
   "source": [
    "### Characteristics:\n",
    "\n",
    "Changeable: You can modify the contents or state of the object without changing its identity.\n",
    "\n",
    "Examples: Lists, dictionaries, sets."
   ]
  },
  {
   "cell_type": "markdown",
   "id": "809dd1ac-aa09-4154-940c-2fd2dbcb8a08",
   "metadata": {},
   "source": [
    "#### List:"
   ]
  },
  {
   "cell_type": "code",
   "execution_count": 8,
   "id": "081b31df-8b5b-4653-b92d-a360b3e9f9ba",
   "metadata": {},
   "outputs": [],
   "source": [
    "my_list=[1,2,3,2.6,\"abbdeep\"]\n",
    "my_list                                          # Changing the first element\n",
    "my_list[0] = 100      "
   ]
  },
  {
   "cell_type": "code",
   "execution_count": 9,
   "id": "1bbec3d7-7d4d-471b-b380-8d85d3fd4e0a",
   "metadata": {},
   "outputs": [
    {
     "data": {
      "text/plain": [
       "[100, 2, 3, 2.6, 'abbdeep']"
      ]
     },
     "execution_count": 9,
     "metadata": {},
     "output_type": "execute_result"
    }
   ],
   "source": [
    "my_list"
   ]
  },
  {
   "cell_type": "markdown",
   "id": "875b89c4-d2b9-4120-a36c-4a6e43107cff",
   "metadata": {},
   "source": [
    "#### Dictionaries:"
   ]
  },
  {
   "cell_type": "code",
   "execution_count": 37,
   "id": "9293ce3d-dd09-4c42-97b7-cbd921b83a83",
   "metadata": {},
   "outputs": [
    {
     "name": "stdout",
     "output_type": "stream",
     "text": [
      "{'key1': 'new_value', 'key2': 'value2'}\n"
     ]
    }
   ],
   "source": [
    "my_dict = {'key1': 'value1', 'key2': 'value2'}\n",
    "my_dict['key1'] = 'new_value'               # Changing the value associated with 'key1'\n",
    "print(my_dict)                              "
   ]
  },
  {
   "cell_type": "markdown",
   "id": "60fd28d9-f0c2-4aeb-a11c-dea7bfdd9459",
   "metadata": {},
   "source": [
    "### Immutable Objects:\n"
   ]
  },
  {
   "cell_type": "markdown",
   "id": "df875d06-7bfd-4c0d-8305-4af17729e1dc",
   "metadata": {
    "tags": []
   },
   "source": [
    "##### Immutable objects are those whose value or state cannot be changed after they have been created."
   ]
  },
  {
   "cell_type": "markdown",
   "id": "1033e1e1-b0d0-4ed0-825b-7c3ccdfc5733",
   "metadata": {},
   "source": [
    "#### Characteristics:\n",
    "Unchangeable: Any modification to the object results in the creation of a new object.\n",
    "\n",
    "Examples: Strings, tuples, integers, floats."
   ]
  },
  {
   "cell_type": "markdown",
   "id": "779e746d-0e09-4045-8715-c87c288d5ad7",
   "metadata": {},
   "source": [
    "#### Strings:"
   ]
  },
  {
   "cell_type": "code",
   "execution_count": 10,
   "id": "521fd4e6-5064-4d4e-b93e-323445ca14f8",
   "metadata": {},
   "outputs": [
    {
     "name": "stdout",
     "output_type": "stream",
     "text": [
      "hello\n",
      "HELLO\n"
     ]
    }
   ],
   "source": [
    "my_string = \"hello\"\n",
    "new_string = my_string.upper()   # Creates a new string with uppercased characters\n",
    "print(my_string)                \n",
    "print(new_string)                "
   ]
  },
  {
   "cell_type": "markdown",
   "id": "e4656b5a-897c-42eb-af48-3d2ba617b14e",
   "metadata": {},
   "source": [
    "#### Tuples:"
   ]
  },
  {
   "cell_type": "code",
   "execution_count": 11,
   "id": "89f8ac12-9a01-4f87-8699-af9b066b6ecd",
   "metadata": {},
   "outputs": [
    {
     "name": "stdout",
     "output_type": "stream",
     "text": [
      "(1, 2, 3)\n",
      "(1, 2, 3, 4, 5)\n"
     ]
    }
   ],
   "source": [
    "my_tuple = (1, 2, 3)\n",
    "new_tuple = my_tuple + (4, 5)    # Concatenates and creates a new tuple\n",
    "print(my_tuple)                  \n",
    "print(new_tuple)                 "
   ]
  },
  {
   "cell_type": "markdown",
   "id": "ea0c8407-d2a7-4d31-b6c9-66c30ceb406c",
   "metadata": {},
   "source": [
    "#### Integers:"
   ]
  },
  {
   "cell_type": "code",
   "execution_count": 12,
   "id": "11483b23-0f48-412a-8b7b-e1f4f98ebec5",
   "metadata": {},
   "outputs": [
    {
     "name": "stdout",
     "output_type": "stream",
     "text": [
      "10\n",
      "15\n"
     ]
    }
   ],
   "source": [
    "a = 10\n",
    "b = a + 5       # Creates a new integer object\n",
    "print(a)        \n",
    "print(b)        "
   ]
  },
  {
   "cell_type": "markdown",
   "id": "6263c35c-8a20-4228-a6d3-338e178ecedf",
   "metadata": {},
   "source": [
    "## 4. Discuss the different types of operator in Python and provide example of how they are used."
   ]
  },
  {
   "cell_type": "markdown",
   "id": "dafe9f63-a077-485c-80ee-8497cf9d0135",
   "metadata": {},
   "source": [
    "#### Python has several types of operators, including:\n"
   ]
  },
  {
   "cell_type": "markdown",
   "id": "74d179d6-79db-4cc9-9f92-29fbe5909b4c",
   "metadata": {},
   "source": [
    "### (a)- Arithmetic Operators:\n",
    "For mathematical calculations\n",
    "\n",
    "- Addition: a + b\n",
    "- Subtraction: a - b\n",
    "- Multiplication: a * b\n",
    "- Division: a / b\n",
    "- Modulus (remainder): a % b\n",
    "- Exponentiation: a ** b"
   ]
  },
  {
   "cell_type": "code",
   "execution_count": 2,
   "id": "32ea8683-ef91-4430-8f85-56ae216a20e1",
   "metadata": {},
   "outputs": [
    {
     "name": "stdout",
     "output_type": "stream",
     "text": [
      "10\n"
     ]
    }
   ],
   "source": [
    "x = 3\n",
    "y = 7\n",
    "print(x+y)"
   ]
  },
  {
   "cell_type": "markdown",
   "id": "68a74e10-1b0e-47f1-b623-56ee220a308c",
   "metadata": {},
   "source": [
    "### (b)- Comparison Operators:\n",
    "For evaluating conditions.\n",
    "​\n",
    "​\n",
    "​\n",
    "- Equal: a == b\n",
    "- Not Equal: a != b\n",
    "- Greater Than: a > b\n",
    "- Less Than: a < b\n",
    "- Greater Than or Equal: a >= b\n",
    "- Less Than or Equal: a <= b\n",
    "​"
   ]
  },
  {
   "cell_type": "code",
   "execution_count": 3,
   "id": "79292a6d-f663-41e5-9592-14e7d3dfc0c9",
   "metadata": {},
   "outputs": [
    {
     "name": "stdout",
     "output_type": "stream",
     "text": [
      "True\n"
     ]
    }
   ],
   "source": [
    "x = 3\n",
    "y = 7\n",
    "print(x<y)"
   ]
  },
  {
   "cell_type": "markdown",
   "id": "9670c66c-4708-476b-bc4d-8a41bf690bd6",
   "metadata": {},
   "source": [
    "### (c)- Logical Operators:\n",
    "For combining conditions.\n",
    "\n",
    "\n",
    "- And: a and b\n",
    "- Or: a or b\n",
    "- Not: not a\n"
   ]
  },
  {
   "cell_type": "code",
   "execution_count": 4,
   "id": "2e352545-f14f-4dd2-b82d-535e17c1925e",
   "metadata": {},
   "outputs": [
    {
     "name": "stdout",
     "output_type": "stream",
     "text": [
      "False\n"
     ]
    }
   ],
   "source": [
    "x = True\n",
    "y = False\n",
    "print(x and y)"
   ]
  },
  {
   "cell_type": "markdown",
   "id": "eb050386-34cc-4ccf-b2fb-4dd83b8279ef",
   "metadata": {},
   "source": [
    "### (d)- Assignment Operators:\n",
    "For assigning values.\n",
    "\n",
    "\n",
    "- Assign: a = b\n",
    "- Add and Assign: a += b\n",
    "- Subtract and Assign: a -= b\n",
    "- Multiply and Assign: a *= b\n",
    "- Divide and Assign: a /= b\n"
   ]
  },
  {
   "cell_type": "code",
   "execution_count": 5,
   "id": "5b1fdbdc-8a83-4841-85b1-06481104fc89",
   "metadata": {},
   "outputs": [
    {
     "name": "stdout",
     "output_type": "stream",
     "text": [
      "13\n"
     ]
    }
   ],
   "source": [
    "x = 5\n",
    "x += 8\n",
    "print(x)"
   ]
  },
  {
   "cell_type": "markdown",
   "id": "1db70145-a3b6-4e40-aaad-802d6b73e076",
   "metadata": {},
   "source": [
    "### (e)- Membership Operators:\n",
    "For checking presence in sequences.\n",
    "\n",
    "\n",
    "- In: a in b\n",
    "- Not In: a not in b\n"
   ]
  },
  {
   "cell_type": "code",
   "execution_count": 6,
   "id": "31e98840-0daf-42bd-a202-6105d12a5902",
   "metadata": {},
   "outputs": [
    {
     "name": "stdout",
     "output_type": "stream",
     "text": [
      "True\n"
     ]
    }
   ],
   "source": [
    "x = [1,2,3]\n",
    "y = 3\n",
    "print(y in x)"
   ]
  },
  {
   "cell_type": "markdown",
   "id": "53bf4ef6-1f6e-4359-a126-67040716b661",
   "metadata": {},
   "source": [
    "### (f)- Identity Operators:\n",
    "For comparing object identities.\n",
    "\n",
    "- Is: a is b\n",
    "- Is Not: a is not b"
   ]
  },
  {
   "cell_type": "code",
   "execution_count": 7,
   "id": "27d6bd56-002b-4d04-9d38-44f07137b341",
   "metadata": {},
   "outputs": [
    {
     "name": "stdout",
     "output_type": "stream",
     "text": [
      "True\n"
     ]
    }
   ],
   "source": [
    "x = [1,2,3]\n",
    "y = x\n",
    "print(x is y)"
   ]
  },
  {
   "cell_type": "markdown",
   "id": "574fbc88-c1fa-4674-be39-5db9c8d086f1",
   "metadata": {},
   "source": [
    "## 5. Explain the concept of type casting in python with examples."
   ]
  },
  {
   "cell_type": "markdown",
   "id": "6385391d-67a9-445a-b28c-080b5ea87dc1",
   "metadata": {},
   "source": [
    "#### Type casting/type conversion: \n",
    "In Python refers to the process of converting a value from one data type to another. This is useful when you need to perform operations that require specific data types or when you need to convert data to match the requirements of a particular function or operation."
   ]
  },
  {
   "cell_type": "markdown",
   "id": "baa17997-6d1c-4f62-ac0e-a7892dbdf363",
   "metadata": {},
   "source": [
    "### Implicit Type Casting:\n",
    "Automatic Type Conversion: Python automatically converts data types when necessary, without explicit instructions from the programmer.\n"
   ]
  },
  {
   "cell_type": "code",
   "execution_count": 47,
   "id": "337d4510-8898-4871-b34d-2f92b96d4782",
   "metadata": {},
   "outputs": [
    {
     "name": "stdout",
     "output_type": "stream",
     "text": [
      "19.0\n"
     ]
    },
    {
     "data": {
      "text/plain": [
       "float"
      ]
     },
     "execution_count": 47,
     "metadata": {},
     "output_type": "execute_result"
    }
   ],
   "source": [
    "x = 11           # int\n",
    "y = 8.0          # float\n",
    "result = x + y  # Implicitly converts x to float before addition\n",
    "print(result)   \n",
    "type(result)"
   ]
  },
  {
   "cell_type": "markdown",
   "id": "93411e5d-2a36-48bf-b835-c059c3fe33b4",
   "metadata": {},
   "source": [
    "#### Explanation: \n",
    "Here, x (an integer) is implicitly converted to a float during the addition operation with y (a float), resulting in a float."
   ]
  },
  {
   "cell_type": "markdown",
   "id": "07deff90-408e-401e-9ae0-56bce6326961",
   "metadata": {},
   "source": [
    "### Explicit Type Casting:\n",
    "Mannual Type conversion: This involves using built-in functions to explicitly convert a value from one type to another. This is useful when you want to control the conversion process.\n",
    "\n",
    "#### Functions:\n",
    "\n",
    "int(): Converts a value to an integer.\n",
    "\n",
    "float(): Converts a value to a float.\n",
    "\n",
    "str(): Converts a value to a string.\n",
    "\n",
    "bool(): Converts a value to a boolean."
   ]
  },
  {
   "cell_type": "code",
   "execution_count": 16,
   "id": "23e0eece-a0cd-4b69-ad75-fce8d3e4344c",
   "metadata": {
    "tags": []
   },
   "outputs": [
    {
     "data": {
      "text/plain": [
       "int"
      ]
     },
     "execution_count": 16,
     "metadata": {},
     "output_type": "execute_result"
    }
   ],
   "source": [
    "string_number=\"98\"                       \n",
    "integer_number=int(string_number)      #string converted to integer\n",
    "type(integer_number)"
   ]
  },
  {
   "cell_type": "code",
   "execution_count": 3,
   "id": "ebfaa17b-6fbe-4900-a55f-50c8ed1b1da8",
   "metadata": {},
   "outputs": [
    {
     "data": {
      "text/plain": [
       "str"
      ]
     },
     "execution_count": 3,
     "metadata": {},
     "output_type": "execute_result"
    }
   ],
   "source": [
    "integer_number=87\n",
    "a=str(\"integer_number\")                 #integer converted to string\n",
    "type(a)"
   ]
  },
  {
   "cell_type": "code",
   "execution_count": 12,
   "id": "77fc2881-0e74-48d4-9113-a2e5a100d9aa",
   "metadata": {},
   "outputs": [
    {
     "data": {
      "text/plain": [
       "int"
      ]
     },
     "execution_count": 12,
     "metadata": {},
     "output_type": "execute_result"
    }
   ],
   "source": [
    "a= True\n",
    "integer_value=int(a)                     #boolean converted to int\n",
    "type(integer_value)"
   ]
  },
  {
   "cell_type": "code",
   "execution_count": 13,
   "id": "70eca04d-12f2-4fbd-8bd8-98b864e9513e",
   "metadata": {},
   "outputs": [
    {
     "data": {
      "text/plain": [
       "bool"
      ]
     },
     "execution_count": 13,
     "metadata": {},
     "output_type": "execute_result"
    }
   ],
   "source": [
    "integer_value=89\n",
    "boolean=bool(integer_value)             #interger converted to boolean\n",
    "type(boolean)"
   ]
  },
  {
   "cell_type": "markdown",
   "id": "467dd219-9a33-42de-9fdb-162d9b89337d",
   "metadata": {},
   "source": [
    "### 6. How do conditional statements work in python? Illustrate with examples."
   ]
  },
  {
   "cell_type": "markdown",
   "id": "3c832fc0-ca14-437a-aa55-b4bff251ee58",
   "metadata": {},
   "source": [
    "### Conditional statements:\n",
    "It allows you to excute different code blocks based on specific conditions, Python uses the if, else, elif keywords for this purpose. "
   ]
  },
  {
   "cell_type": "code",
   "execution_count": 49,
   "id": "d189086d-684e-4082-a915-7632d16066f6",
   "metadata": {},
   "outputs": [
    {
     "name": "stdout",
     "output_type": "stream",
     "text": [
      "Go marry and ruin your life\n"
     ]
    }
   ],
   "source": [
    "age= 21\n",
    "if age >=21:\n",
    "    print(\"Go marry and ruin your life\")\n",
    "else:\n",
    "    print(\"You're safe\")"
   ]
  },
  {
   "cell_type": "code",
   "execution_count": 48,
   "id": "9287afe4-5d7b-48e1-ac93-db97076c6d07",
   "metadata": {},
   "outputs": [
    {
     "name": "stdout",
     "output_type": "stream",
     "text": [
      "I will play cricket\n"
     ]
    }
   ],
   "source": [
    "weather = \"sunny\"\n",
    "if weather == \"sunny\":\n",
    "           print (\"I will play cricket\")\n",
    "else: \n",
    "    print(\"I will watch movie\")"
   ]
  },
  {
   "cell_type": "markdown",
   "id": "d0c21eed-b37c-47ad-b188-cb04be0d1ed5",
   "metadata": {},
   "source": [
    "### 7. Describe the different types of loops in python and their use case with examples."
   ]
  },
  {
   "cell_type": "markdown",
   "id": "6d70c842-1405-4dfc-90ac-f77ad0407839",
   "metadata": {},
   "source": [
    "#### Loop condition:\n",
    "In Python, loops are used to execute a block of code repeatedly based on certain conditions.There are two primary types of loops in Python: \"for\" loops and \"while\" loops. Each has its own use cases and characteristics. "
   ]
  },
  {
   "cell_type": "markdown",
   "id": "53a1d595-28ba-4e30-b85c-409bc5c14926",
   "metadata": {},
   "source": [
    "#### a. \"for\" Loop:\n",
    "The 'for' loop in Python iterates over a sequence of elements (such as a list, tuple, dictionary, set, or string) and executes a block of code for each element in the sequence."
   ]
  },
  {
   "cell_type": "code",
   "execution_count": 52,
   "id": "e6c2fae8-07cb-4c60-846a-89fd70fc45df",
   "metadata": {},
   "outputs": [
    {
     "name": "stdout",
     "output_type": "stream",
     "text": [
      "Key: a, Value: 1\n",
      "Key: b, Value: 2\n",
      "Key: c, Value: 3\n"
     ]
    }
   ],
   "source": [
    "my_dict = {'a': 1, 'b': 2, 'c': 3}\n",
    "for key, value in my_dict.items():\n",
    "    print(f\"Key: {key}, Value: {value}\")"
   ]
  },
  {
   "cell_type": "code",
   "execution_count": 53,
   "id": "55a789b4-0002-45c8-969d-d2771f59c6dc",
   "metadata": {},
   "outputs": [
    {
     "name": "stdout",
     "output_type": "stream",
     "text": [
      "apple\n",
      "mango\n",
      "banana\n"
     ]
    }
   ],
   "source": [
    "fruits = ['apple', 'mango', 'banana']\n",
    "for fruit in fruits:\n",
    "    print(fruit)"
   ]
  },
  {
   "cell_type": "markdown",
   "id": "48c51894-99bf-4e0b-8dce-031493b38ff7",
   "metadata": {},
   "source": [
    "#### b. \"while\" Loop:\n",
    "The 'while' loop repeatedly executes a block of code as long as a specified condition is 'True'. The loop will terminate when the condition becomes 'False'."
   ]
  },
  {
   "cell_type": "code",
   "execution_count": 55,
   "id": "8d33fd28-4267-4cd2-ac77-3e17dc3d46c5",
   "metadata": {},
   "outputs": [
    {
     "name": "stdout",
     "output_type": "stream",
     "text": [
      "5\n",
      "4\n",
      "3\n",
      "2\n",
      "1\n"
     ]
    }
   ],
   "source": [
    "count = 5\n",
    "while count > 0:\n",
    "    print(count)\n",
    "    count -= 1\n",
    "# Output:\n",
    "# 5\n",
    "# 4\n",
    "# 3\n",
    "# 2\n",
    "# 1"
   ]
  },
  {
   "cell_type": "code",
   "execution_count": null,
   "id": "44c0cf3e-087a-47d2-afec-41e9b3d30a25",
   "metadata": {},
   "outputs": [],
   "source": [
    "while True:\n",
    "    user_input = input(\"Enter 'exit' to quit: \")\n",
    "    if user_input == 'exit':\n",
    "        break\n",
    "# This loop will continue until the user enters 'exit'"
   ]
  }
 ],
 "metadata": {
  "kernelspec": {
   "display_name": "Python 3 (ipykernel)",
   "language": "python",
   "name": "python3"
  },
  "language_info": {
   "codemirror_mode": {
    "name": "ipython",
    "version": 3
   },
   "file_extension": ".py",
   "mimetype": "text/x-python",
   "name": "python",
   "nbconvert_exporter": "python",
   "pygments_lexer": "ipython3",
   "version": "3.10.8"
  }
 },
 "nbformat": 4,
 "nbformat_minor": 5
}
